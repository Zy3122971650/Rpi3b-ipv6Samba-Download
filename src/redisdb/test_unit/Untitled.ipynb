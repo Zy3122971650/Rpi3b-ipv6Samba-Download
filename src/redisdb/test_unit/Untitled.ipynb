{
 "cells": [
  {
   "cell_type": "code",
   "execution_count": 2,
   "metadata": {},
   "outputs": [],
   "source": [
    "import redis"
   ]
  },
  {
   "cell_type": "code",
   "execution_count": 3,
   "metadata": {},
   "outputs": [],
   "source": [
    "import time"
   ]
  },
  {
   "cell_type": "code",
   "execution_count": 4,
   "metadata": {},
   "outputs": [],
   "source": [
    "r = redis.Redis(decode_responses=True)\n"
   ]
  },
  {
   "cell_type": "code",
   "execution_count": 16,
   "metadata": {},
   "outputs": [
    {
     "name": "stdout",
     "output_type": "stream",
     "text": [
      "['{\"origin\": \"http://download.kugou.com/download/kugou_pc\", \"title\": \"\", \"size\": \"0\", \"total_size\": \"0\"}']\n",
      "['{\"origin\": \"http://download.kugou.com/download/kugou_pc\", \"title\": \"\", \"size\": \"0\", \"total_size\": \"0\"}']\n",
      "['{\"origin\": \"http://download.kugou.com/download/kugou_pc\", \"title\": \"\", \"size\": \"0\", \"total_size\": \"0\"}']\n",
      "['{\"origin\": \"http://download.kugou.com/download/kugou_pc\", \"title\": \"\", \"size\": \"0\", \"total_size\": \"0\"}']\n",
      "['{\"origin\": \"http://download.kugou.com/download/kugou_pc\", \"title\": \"\", \"size\": \"0\", \"total_size\": \"0\"}']\n",
      "['{\"origin\": \"http://download.kugou.com/download/kugou_pc\", \"title\": \"\", \"size\": \"0\", \"total_size\": \"0\"}']\n",
      "['{\"origin\": \"http://download.kugou.com/download/kugou_pc\", \"title\": \"\", \"size\": \"0\", \"total_size\": \"0\"}']\n",
      "['{\"origin\": \"http://download.kugou.com/download/kugou_pc\", \"title\": \"\", \"size\": \"0\", \"total_size\": \"0\"}', '{\"origin\": \"http://download.kugou.com/download/kugou_pc\", \"title\": \"kugou9144.exe\", \"size\": \"4030464\", \"total_size\": \"52789440\"}']\n",
      "['{\"origin\": \"http://download.kugou.com/download/kugou_pc\", \"title\": \"\", \"size\": \"0\", \"total_size\": \"0\"}', '{\"origin\": \"http://download.kugou.com/download/kugou_pc\", \"title\": \"kugou9144.exe\", \"size\": \"21086208\", \"total_size\": \"52789440\"}']\n",
      "['{\"origin\": \"http://download.kugou.com/download/kugou_pc\", \"title\": \"\", \"size\": \"0\", \"total_size\": \"0\"}', '{\"origin\": \"http://download.kugou.com/download/kugou_pc\", \"title\": \"kugou9144.exe\", \"size\": \"37306560\", \"total_size\": \"52789440\"}']\n",
      "['{\"origin\": \"http://download.kugou.com/download/kugou_pc\", \"title\": \"\", \"size\": \"0\", \"total_size\": \"0\"}', '{\"origin\": \"http://download.kugou.com/download/kugou_pc\", \"title\": \"kugou9144.exe\", \"size\": \"50462912\", \"total_size\": \"52789440\"}']\n",
      "['{\"origin\": \"http://download.kugou.com/download/kugou_pc\", \"title\": \"\", \"size\": \"0\", \"total_size\": \"0\"}', '{\"origin\": \"http://download.kugou.com/download/kugou_pc\", \"title\": \"kugou9144.exe\", \"size\": \"52789440\", \"total_size\": \"52789440\"}']\n",
      "['{\"origin\": \"http://download.kugou.com/download/kugou_pc\", \"title\": \"\", \"size\": \"0\", \"total_size\": \"0\"}', '{\"origin\": \"http://download.kugou.com/download/kugou_pc\", \"title\": \"kugou9144.exe\", \"size\": \"52789440\", \"total_size\": \"52789440\"}']\n",
      "['{\"origin\": \"http://download.kugou.com/download/kugou_pc\", \"title\": \"\", \"size\": \"0\", \"total_size\": \"0\"}', '{\"origin\": \"http://download.kugou.com/download/kugou_pc\", \"title\": \"kugou9144.exe\", \"size\": \"52789440\", \"total_size\": \"52789440\"}']\n",
      "['{\"origin\": \"http://download.kugou.com/download/kugou_pc\", \"title\": \"\", \"size\": \"0\", \"total_size\": \"0\"}', '{\"origin\": \"http://download.kugou.com/download/kugou_pc\", \"title\": \"kugou9144.exe\", \"size\": \"52789440\", \"total_size\": \"52789440\"}']\n",
      "['{\"origin\": \"http://download.kugou.com/download/kugou_pc\", \"title\": \"\", \"size\": \"0\", \"total_size\": \"0\"}', '{\"origin\": \"http://download.kugou.com/download/kugou_pc\", \"title\": \"kugou9144.exe\", \"size\": \"52789440\", \"total_size\": \"52789440\"}']\n",
      "['{\"origin\": \"http://download.kugou.com/download/kugou_pc\", \"title\": \"\", \"size\": \"0\", \"total_size\": \"0\"}', '{\"origin\": \"http://download.kugou.com/download/kugou_pc\", \"title\": \"kugou9144.exe\", \"size\": \"52789440\", \"total_size\": \"52789440\"}']\n",
      "['{\"origin\": \"http://download.kugou.com/download/kugou_pc\", \"title\": \"\", \"size\": \"0\", \"total_size\": \"0\"}', '{\"origin\": \"http://download.kugou.com/download/kugou_pc\", \"title\": \"kugou9144.exe\", \"size\": \"52789440\", \"total_size\": \"52789440\"}']\n",
      "['{\"origin\": \"http://download.kugou.com/download/kugou_pc\", \"title\": \"\", \"size\": \"0\", \"total_size\": \"0\"}', '{\"origin\": \"http://download.kugou.com/download/kugou_pc\", \"title\": \"kugou9144.exe\", \"size\": \"52789440\", \"total_size\": \"52789440\"}']\n",
      "['{\"origin\": \"http://download.kugou.com/download/kugou_pc\", \"title\": \"\", \"size\": \"0\", \"total_size\": \"0\"}', '{\"origin\": \"http://download.kugou.com/download/kugou_pc\", \"title\": \"kugou9144.exe\", \"size\": \"52789440\", \"total_size\": \"52789440\"}']\n",
      "['{\"origin\": \"http://download.kugou.com/download/kugou_pc\", \"title\": \"\", \"size\": \"0\", \"total_size\": \"0\"}', '{\"origin\": \"http://download.kugou.com/download/kugou_pc\", \"title\": \"kugou9144.exe\", \"size\": \"52789440\", \"total_size\": \"52789440\"}']\n",
      "['{\"origin\": \"http://download.kugou.com/download/kugou_pc\", \"title\": \"\", \"size\": \"0\", \"total_size\": \"0\"}', '{\"origin\": \"http://download.kugou.com/download/kugou_pc\", \"title\": \"kugou9144.exe\", \"size\": \"52789440\", \"total_size\": \"52789440\"}']\n",
      "['{\"origin\": \"http://download.kugou.com/download/kugou_pc\", \"title\": \"\", \"size\": \"0\", \"total_size\": \"0\"}', '{\"origin\": \"http://download.kugou.com/download/kugou_pc\", \"title\": \"kugou9144.exe\", \"size\": \"52789440\", \"total_size\": \"52789440\"}']\n",
      "['{\"origin\": \"http://download.kugou.com/download/kugou_pc\", \"title\": \"\", \"size\": \"0\", \"total_size\": \"0\"}', '{\"origin\": \"http://download.kugou.com/download/kugou_pc\", \"title\": \"kugou9144.exe\", \"size\": \"52789440\", \"total_size\": \"52789440\"}']\n",
      "['{\"origin\": \"http://download.kugou.com/download/kugou_pc\", \"title\": \"\", \"size\": \"0\", \"total_size\": \"0\"}', '{\"origin\": \"http://download.kugou.com/download/kugou_pc\", \"title\": \"kugou9144.exe\", \"size\": \"52789440\", \"total_size\": \"52789440\"}']\n",
      "['{\"origin\": \"http://download.kugou.com/download/kugou_pc\", \"title\": \"\", \"size\": \"0\", \"total_size\": \"0\"}', '{\"origin\": \"http://download.kugou.com/download/kugou_pc\", \"title\": \"kugou9144.exe\", \"size\": \"52789440\", \"total_size\": \"52789440\"}']\n",
      "['{\"origin\": \"http://download.kugou.com/download/kugou_pc\", \"title\": \"\", \"size\": \"0\", \"total_size\": \"0\"}', '{\"origin\": \"http://download.kugou.com/download/kugou_pc\", \"title\": \"kugou9144.exe\", \"size\": \"52789440\", \"total_size\": \"52789440\"}']\n",
      "['{\"origin\": \"http://download.kugou.com/download/kugou_pc\", \"title\": \"\", \"size\": \"0\", \"total_size\": \"0\"}', '{\"origin\": \"http://download.kugou.com/download/kugou_pc\", \"title\": \"kugou9144.exe\", \"size\": \"52789440\", \"total_size\": \"52789440\"}']\n",
      "['{\"origin\": \"http://download.kugou.com/download/kugou_pc\", \"title\": \"\", \"size\": \"0\", \"total_size\": \"0\"}', '{\"origin\": \"http://download.kugou.com/download/kugou_pc\", \"title\": \"kugou9144.exe\", \"size\": \"52789440\", \"total_size\": \"52789440\"}']\n",
      "['{\"origin\": \"http://download.kugou.com/download/kugou_pc\", \"title\": \"\", \"size\": \"0\", \"total_size\": \"0\"}', '{\"origin\": \"http://download.kugou.com/download/kugou_pc\", \"title\": \"kugou9144.exe\", \"size\": \"52789440\", \"total_size\": \"52789440\"}']\n",
      "['{\"origin\": \"http://download.kugou.com/download/kugou_pc\", \"title\": \"\", \"size\": \"0\", \"total_size\": \"0\"}', '{\"origin\": \"http://download.kugou.com/download/kugou_pc\", \"title\": \"kugou9144.exe\", \"size\": \"52789440\", \"total_size\": \"52789440\"}']\n",
      "['{\"origin\": \"http://download.kugou.com/download/kugou_pc\", \"title\": \"\", \"size\": \"0\", \"total_size\": \"0\"}', '{\"origin\": \"http://download.kugou.com/download/kugou_pc\", \"title\": \"kugou9144.exe\", \"size\": \"52789440\", \"total_size\": \"52789440\"}']\n",
      "['{\"origin\": \"http://download.kugou.com/download/kugou_pc\", \"title\": \"\", \"size\": \"0\", \"total_size\": \"0\"}', '{\"origin\": \"http://download.kugou.com/download/kugou_pc\", \"title\": \"kugou9144.exe\", \"size\": \"52789440\", \"total_size\": \"52789440\"}']\n",
      "['{\"origin\": \"http://download.kugou.com/download/kugou_pc\", \"title\": \"\", \"size\": \"0\", \"total_size\": \"0\"}', '{\"origin\": \"http://download.kugou.com/download/kugou_pc\", \"title\": \"kugou9144.exe\", \"size\": \"52789440\", \"total_size\": \"52789440\"}']\n",
      "['{\"origin\": \"http://download.kugou.com/download/kugou_pc\", \"title\": \"\", \"size\": \"0\", \"total_size\": \"0\"}', '{\"origin\": \"http://download.kugou.com/download/kugou_pc\", \"title\": \"kugou9144.exe\", \"size\": \"52789440\", \"total_size\": \"52789440\"}']\n",
      "['{\"origin\": \"http://download.kugou.com/download/kugou_pc\", \"title\": \"\", \"size\": \"0\", \"total_size\": \"0\"}', '{\"origin\": \"http://download.kugou.com/download/kugou_pc\", \"title\": \"kugou9144.exe\", \"size\": \"52789440\", \"total_size\": \"52789440\"}']\n",
      "['{\"origin\": \"http://download.kugou.com/download/kugou_pc\", \"title\": \"\", \"size\": \"0\", \"total_size\": \"0\"}', '{\"origin\": \"http://download.kugou.com/download/kugou_pc\", \"title\": \"kugou9144.exe\", \"size\": \"52789440\", \"total_size\": \"52789440\"}']\n",
      "['{\"origin\": \"http://download.kugou.com/download/kugou_pc\", \"title\": \"\", \"size\": \"0\", \"total_size\": \"0\"}', '{\"origin\": \"http://download.kugou.com/download/kugou_pc\", \"title\": \"kugou9144.exe\", \"size\": \"52789440\", \"total_size\": \"52789440\"}']\n",
      "['{\"origin\": \"http://download.kugou.com/download/kugou_pc\", \"title\": \"\", \"size\": \"0\", \"total_size\": \"0\"}', '{\"origin\": \"http://download.kugou.com/download/kugou_pc\", \"title\": \"kugou9144.exe\", \"size\": \"52789440\", \"total_size\": \"52789440\"}']\n"
     ]
    },
    {
     "name": "stdout",
     "output_type": "stream",
     "text": [
      "['{\"origin\": \"http://download.kugou.com/download/kugou_pc\", \"title\": \"\", \"size\": \"0\", \"total_size\": \"0\"}', '{\"origin\": \"http://download.kugou.com/download/kugou_pc\", \"title\": \"kugou9144.exe\", \"size\": \"52789440\", \"total_size\": \"52789440\"}']\n",
      "['{\"origin\": \"http://download.kugou.com/download/kugou_pc\", \"title\": \"\", \"size\": \"0\", \"total_size\": \"0\"}', '{\"origin\": \"http://download.kugou.com/download/kugou_pc\", \"title\": \"kugou9144.exe\", \"size\": \"52789440\", \"total_size\": \"52789440\"}']\n",
      "['{\"origin\": \"http://download.kugou.com/download/kugou_pc\", \"title\": \"\", \"size\": \"0\", \"total_size\": \"0\"}', '{\"origin\": \"http://download.kugou.com/download/kugou_pc\", \"title\": \"kugou9144.exe\", \"size\": \"52789440\", \"total_size\": \"52789440\"}']\n",
      "['{\"origin\": \"http://download.kugou.com/download/kugou_pc\", \"title\": \"\", \"size\": \"0\", \"total_size\": \"0\"}', '{\"origin\": \"http://download.kugou.com/download/kugou_pc\", \"title\": \"kugou9144.exe\", \"size\": \"52789440\", \"total_size\": \"52789440\"}']\n",
      "['{\"origin\": \"http://download.kugou.com/download/kugou_pc\", \"title\": \"\", \"size\": \"0\", \"total_size\": \"0\"}', '{\"origin\": \"http://download.kugou.com/download/kugou_pc\", \"title\": \"kugou9144.exe\", \"size\": \"52789440\", \"total_size\": \"52789440\"}']\n",
      "['{\"origin\": \"http://download.kugou.com/download/kugou_pc\", \"title\": \"\", \"size\": \"0\", \"total_size\": \"0\"}', '{\"origin\": \"http://download.kugou.com/download/kugou_pc\", \"title\": \"kugou9144.exe\", \"size\": \"52789440\", \"total_size\": \"52789440\"}']\n",
      "['{\"origin\": \"http://download.kugou.com/download/kugou_pc\", \"title\": \"\", \"size\": \"0\", \"total_size\": \"0\"}', '{\"origin\": \"http://download.kugou.com/download/kugou_pc\", \"title\": \"kugou9144.exe\", \"size\": \"52789440\", \"total_size\": \"52789440\"}']\n",
      "['{\"origin\": \"http://download.kugou.com/download/kugou_pc\", \"title\": \"\", \"size\": \"0\", \"total_size\": \"0\"}', '{\"origin\": \"http://download.kugou.com/download/kugou_pc\", \"title\": \"kugou9144.exe\", \"size\": \"52789440\", \"total_size\": \"52789440\"}']\n",
      "['{\"origin\": \"http://download.kugou.com/download/kugou_pc\", \"title\": \"\", \"size\": \"0\", \"total_size\": \"0\"}', '{\"origin\": \"http://download.kugou.com/download/kugou_pc\", \"title\": \"kugou9144.exe\", \"size\": \"52789440\", \"total_size\": \"52789440\"}']\n",
      "['{\"origin\": \"http://download.kugou.com/download/kugou_pc\", \"title\": \"\", \"size\": \"0\", \"total_size\": \"0\"}', '{\"origin\": \"http://download.kugou.com/download/kugou_pc\", \"title\": \"kugou9144.exe\", \"size\": \"52789440\", \"total_size\": \"52789440\"}']\n",
      "['{\"origin\": \"http://download.kugou.com/download/kugou_pc\", \"title\": \"\", \"size\": \"0\", \"total_size\": \"0\"}', '{\"origin\": \"http://download.kugou.com/download/kugou_pc\", \"title\": \"kugou9144.exe\", \"size\": \"52789440\", \"total_size\": \"52789440\"}']\n",
      "['{\"origin\": \"http://download.kugou.com/download/kugou_pc\", \"title\": \"\", \"size\": \"0\", \"total_size\": \"0\"}', '{\"origin\": \"http://download.kugou.com/download/kugou_pc\", \"title\": \"kugou9144.exe\", \"size\": \"52789440\", \"total_size\": \"52789440\"}']\n",
      "['{\"origin\": \"http://download.kugou.com/download/kugou_pc\", \"title\": \"\", \"size\": \"0\", \"total_size\": \"0\"}', '{\"origin\": \"http://download.kugou.com/download/kugou_pc\", \"title\": \"kugou9144.exe\", \"size\": \"52789440\", \"total_size\": \"52789440\"}']\n",
      "['{\"origin\": \"http://download.kugou.com/download/kugou_pc\", \"title\": \"\", \"size\": \"0\", \"total_size\": \"0\"}', '{\"origin\": \"http://download.kugou.com/download/kugou_pc\", \"title\": \"kugou9144.exe\", \"size\": \"52789440\", \"total_size\": \"52789440\"}']\n",
      "['{\"origin\": \"http://download.kugou.com/download/kugou_pc\", \"title\": \"\", \"size\": \"0\", \"total_size\": \"0\"}', '{\"origin\": \"http://download.kugou.com/download/kugou_pc\", \"title\": \"kugou9144.exe\", \"size\": \"52789440\", \"total_size\": \"52789440\"}']\n",
      "['{\"origin\": \"http://download.kugou.com/download/kugou_pc\", \"title\": \"\", \"size\": \"0\", \"total_size\": \"0\"}', '{\"origin\": \"http://download.kugou.com/download/kugou_pc\", \"title\": \"kugou9144.exe\", \"size\": \"52789440\", \"total_size\": \"52789440\"}']\n",
      "['{\"origin\": \"http://download.kugou.com/download/kugou_pc\", \"title\": \"\", \"size\": \"0\", \"total_size\": \"0\"}', '{\"origin\": \"http://download.kugou.com/download/kugou_pc\", \"title\": \"kugou9144.exe\", \"size\": \"52789440\", \"total_size\": \"52789440\"}']\n",
      "['{\"origin\": \"http://download.kugou.com/download/kugou_pc\", \"title\": \"\", \"size\": \"0\", \"total_size\": \"0\"}', '{\"origin\": \"http://download.kugou.com/download/kugou_pc\", \"title\": \"kugou9144.exe\", \"size\": \"52789440\", \"total_size\": \"52789440\"}']\n",
      "['{\"origin\": \"http://download.kugou.com/download/kugou_pc\", \"title\": \"\", \"size\": \"0\", \"total_size\": \"0\"}', '{\"origin\": \"http://download.kugou.com/download/kugou_pc\", \"title\": \"kugou9144.exe\", \"size\": \"52789440\", \"total_size\": \"52789440\"}']\n",
      "['{\"origin\": \"http://download.kugou.com/download/kugou_pc\", \"title\": \"\", \"size\": \"0\", \"total_size\": \"0\"}', '{\"origin\": \"http://download.kugou.com/download/kugou_pc\", \"title\": \"kugou9144.exe\", \"size\": \"52789440\", \"total_size\": \"52789440\"}']\n",
      "['{\"origin\": \"http://download.kugou.com/download/kugou_pc\", \"title\": \"\", \"size\": \"0\", \"total_size\": \"0\"}', '{\"origin\": \"http://download.kugou.com/download/kugou_pc\", \"title\": \"kugou9144.exe\", \"size\": \"52789440\", \"total_size\": \"52789440\"}']\n",
      "['{\"origin\": \"http://download.kugou.com/download/kugou_pc\", \"title\": \"\", \"size\": \"0\", \"total_size\": \"0\"}', '{\"origin\": \"http://download.kugou.com/download/kugou_pc\", \"title\": \"kugou9144.exe\", \"size\": \"52789440\", \"total_size\": \"52789440\"}']\n"
     ]
    },
    {
     "ename": "KeyboardInterrupt",
     "evalue": "",
     "output_type": "error",
     "traceback": [
      "\u001b[0;31m---------------------------------------------------------------------------\u001b[0m",
      "\u001b[0;31mKeyboardInterrupt\u001b[0m                         Traceback (most recent call last)",
      "\u001b[0;32m<ipython-input-16-155a664de757>\u001b[0m in \u001b[0;36m<module>\u001b[0;34m\u001b[0m\n\u001b[1;32m      1\u001b[0m \u001b[0;32mwhile\u001b[0m \u001b[0;36m1\u001b[0m\u001b[0;34m:\u001b[0m\u001b[0;34m\u001b[0m\u001b[0;34m\u001b[0m\u001b[0m\n\u001b[1;32m      2\u001b[0m     \u001b[0mprint\u001b[0m \u001b[0;34m(\u001b[0m\u001b[0mr\u001b[0m\u001b[0;34m.\u001b[0m\u001b[0mmget\u001b[0m\u001b[0;34m(\u001b[0m\u001b[0mr\u001b[0m\u001b[0;34m.\u001b[0m\u001b[0mkeys\u001b[0m\u001b[0;34m(\u001b[0m\u001b[0;34m)\u001b[0m\u001b[0;34m)\u001b[0m\u001b[0;34m)\u001b[0m\u001b[0;34m\u001b[0m\u001b[0;34m\u001b[0m\u001b[0m\n\u001b[0;32m----> 3\u001b[0;31m     \u001b[0mtime\u001b[0m\u001b[0;34m.\u001b[0m\u001b[0msleep\u001b[0m\u001b[0;34m(\u001b[0m\u001b[0;36m0.5\u001b[0m\u001b[0;34m)\u001b[0m\u001b[0;34m\u001b[0m\u001b[0;34m\u001b[0m\u001b[0m\n\u001b[0m",
      "\u001b[0;31mKeyboardInterrupt\u001b[0m: "
     ]
    }
   ],
   "source": [
    "while 1:\n",
    "    print (r.mget(r.keys()))\n",
    "    time.sleep(0.5)"
   ]
  },
  {
   "cell_type": "code",
   "execution_count": null,
   "metadata": {},
   "outputs": [],
   "source": []
  }
 ],
 "metadata": {
  "kernelspec": {
   "display_name": "Python 3",
   "language": "python",
   "name": "python3"
  },
  "language_info": {
   "codemirror_mode": {
    "name": "ipython",
    "version": 3
   },
   "file_extension": ".py",
   "mimetype": "text/x-python",
   "name": "python",
   "nbconvert_exporter": "python",
   "pygments_lexer": "ipython3",
   "version": "3.8.5"
  }
 },
 "nbformat": 4,
 "nbformat_minor": 4
}
